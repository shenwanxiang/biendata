{
 "cells": [
  {
   "cell_type": "code",
   "execution_count": 2,
   "metadata": {},
   "outputs": [],
   "source": [
    "from chembench import load_data\n",
    "from atommap import Extraction, Sanity\n",
    "from net import AtomMapNet\n",
    "from cbks import Reg_EarlyStoppingAndPerformance\n",
    "import pandas as pd\n",
    "import numpy as np\n",
    "import tensorflow as tf\n",
    "import os\n",
    "import matplotlib.pyplot as plt\n",
    "\n",
    "np.random.seed(123)\n",
    "tf.compat.v1.set_random_seed(123)\n",
    "\n",
    "os.environ[\"CUDA_VISIBLE_DEVICES\"]=\"4\""
   ]
  },
  {
   "cell_type": "code",
   "execution_count": 3,
   "metadata": {},
   "outputs": [
    {
     "name": "stdout",
     "output_type": "stream",
     "text": [
      "loading dataset: ESOL number of split times: 3\n"
     ]
    }
   ],
   "source": [
    "df, index = load_data('ESOL')"
   ]
  },
  {
   "cell_type": "code",
   "execution_count": 4,
   "metadata": {},
   "outputs": [],
   "source": [
    "train_idx, valid_idx, test_idx = index[0]"
   ]
  },
  {
   "cell_type": "markdown",
   "metadata": {},
   "source": [
    "## check the smiles is valid or not"
   ]
  },
  {
   "cell_type": "code",
   "execution_count": 5,
   "metadata": {},
   "outputs": [
    {
     "name": "stderr",
     "output_type": "stream",
     "text": [
      "100%|##########| 1128/1128 [00:01<00:00, 1048.11it/s]\n"
     ]
    },
    {
     "data": {
      "text/plain": [
       "1128"
      ]
     },
     "execution_count": 5,
     "metadata": {},
     "output_type": "execute_result"
    }
   ],
   "source": [
    "S = Sanity()\n",
    "pd.Series(S.batch_is_valid(df.smiles)).sum()"
   ]
  },
  {
   "cell_type": "code",
   "execution_count": 6,
   "metadata": {},
   "outputs": [],
   "source": [
    "shape=(80, 80)\n",
    "n_conformers = 2\n",
    "epochs = 500\n",
    "patience = 50\n",
    "lr = 1e-4\n",
    "batch_size = 64\n",
    "loss = 'mse'\n",
    "criteria = 'val_loss'\n",
    "\n",
    "dense_layers = [128]\n",
    "dense_avf = 'relu'\n",
    "last_avf = 'linear'\n"
   ]
  },
  {
   "cell_type": "code",
   "execution_count": 7,
   "metadata": {},
   "outputs": [
    {
     "name": "stderr",
     "output_type": "stream",
     "text": [
      "100%|##########| 1128/1128 [00:27<00:00, 40.75it/s]\n"
     ]
    }
   ],
   "source": [
    "E = Extraction()\n",
    "X = E.batch_transform(df.smiles, include_hydrogen = False, n_conformers=n_conformers, n_jobs = 8, shape=shape)"
   ]
  },
  {
   "cell_type": "code",
   "execution_count": 8,
   "metadata": {},
   "outputs": [],
   "source": [
    "task= 'measured log solubility in mols per litre'"
   ]
  },
  {
   "cell_type": "code",
   "execution_count": 9,
   "metadata": {},
   "outputs": [
    {
     "data": {
      "text/plain": [
       "<matplotlib.image.AxesImage at 0x7fcb28da35f8>"
      ]
     },
     "execution_count": 9,
     "metadata": {},
     "output_type": "execute_result"
    },
    {
     "data": {
      "image/png": "[encoded data removed]",
      "text/plain": [
       "<Figure size 432x288 with 1 Axes>"
      ]
     },
     "metadata": {
      "needs_background": "light"
     },
     "output_type": "display_data"
    }
   ],
   "source": [
    "plt.imshow(X[0][0][:,:,-4])"
   ]
  },
  {
   "cell_type": "code",
   "execution_count": null,
   "metadata": {},
   "outputs": [],
   "source": []
  },
  {
   "cell_type": "code",
   "execution_count": 10,
   "metadata": {},
   "outputs": [],
   "source": [
    "Y = df[[task]]"
   ]
  },
  {
   "cell_type": "code",
   "execution_count": 11,
   "metadata": {},
   "outputs": [],
   "source": [
    "trainX = X[train_idx]\n",
    "trainY = Y.iloc[train_idx]\n",
    "\n",
    "validX = X[valid_idx]\n",
    "validY = Y.iloc[valid_idx]\n",
    "\n",
    "testX = X[test_idx]\n",
    "testY = Y.iloc[test_idx]"
   ]
  },
  {
   "cell_type": "code",
   "execution_count": 12,
   "metadata": {},
   "outputs": [
    {
     "name": "stdout",
     "output_type": "stream",
     "text": [
      "1804 226 226\n"
     ]
    }
   ],
   "source": [
    "trainX = np.concatenate(trainX, axis = 0)\n",
    "trainY = trainY.loc[trainY.index.repeat(n_conformers)][[task]].values\n",
    "\n",
    "validX = np.concatenate(validX, axis = 0)\n",
    "validY = validY.loc[validY.index.repeat(n_conformers)][[task]].values\n",
    "\n",
    "testX = np.concatenate(testX, axis = 0)\n",
    "testY = testY.loc[testY.index.repeat(n_conformers)][[task]].values\n",
    "\n",
    "print(len(trainX), len(validX), len(testX))"
   ]
  },
  {
   "cell_type": "code",
   "execution_count": 13,
   "metadata": {},
   "outputs": [
    {
     "data": {
      "text/plain": [
       "((1128, 2, 80, 80, 115), (1128, 1), (1804, 80, 80, 115))"
      ]
     },
     "execution_count": 13,
     "metadata": {},
     "output_type": "execute_result"
    }
   ],
   "source": [
    "X.shape, Y.shape, trainX.shape"
   ]
  },
  {
   "cell_type": "code",
   "execution_count": 16,
   "metadata": {},
   "outputs": [],
   "source": [
    "model = AtomMapNet(input_shape = trainX.shape[1:], \n",
    "                   n_outputs=Y.shape[-1],\n",
    "                   conv1_kernel_size = 5,\n",
    "                   dense_layers = dense_layers,\n",
    "                   dense_avf = dense_avf,\n",
    "                   last_avf = last_avf,\n",
    "                  )"
   ]
  },
  {
   "cell_type": "code",
   "execution_count": 17,
   "metadata": {},
   "outputs": [
    {
     "data": {
      "text/plain": [
       "431969"
      ]
     },
     "execution_count": 17,
     "metadata": {},
     "output_type": "execute_result"
    }
   ],
   "source": [
    "model.count_params()"
   ]
  },
  {
   "cell_type": "code",
   "execution_count": 1,
   "metadata": {},
   "outputs": [
    {
     "data": {
      "text/plain": [
       "'/home/sxh/Research/bidd-atommap/paper'"
      ]
     },
     "execution_count": 1,
     "metadata": {},
     "output_type": "execute_result"
    }
   ],
   "source": [
    "pwd"
   ]
  },
  {
   "cell_type": "code",
   "execution_count": null,
   "metadata": {},
   "outputs": [],
   "source": []
  },
  {
   "cell_type": "code",
   "execution_count": null,
   "metadata": {},
   "outputs": [],
   "source": []
  },
  {
   "cell_type": "code",
   "execution_count": null,
   "metadata": {},
   "outputs": [],
   "source": []
  },
  {
   "cell_type": "code",
   "execution_count": null,
   "metadata": {},
   "outputs": [],
   "source": []
  },
  {
   "cell_type": "code",
   "execution_count": 19,
   "metadata": {},
   "outputs": [],
   "source": [
    "performance = Reg_EarlyStoppingAndPerformance((trainX, trainY), \n",
    "                                            (validX, validY),\n",
    "                                            n_conformers = n_conformers,\n",
    "                                            patience=patience, \n",
    "                                            criteria = criteria)\n",
    "\n",
    "opt = tf.keras.optimizers.Adam(lr=lr, beta_1=0.9, beta_2=0.999, epsilon=1e-08, decay=0.0) #\n",
    "model.compile(optimizer = opt, loss = loss)"
   ]
  },
  {
   "cell_type": "code",
   "execution_count": 20,
   "metadata": {
    "collapsed": true,
    "jupyter": {
     "outputs_hidden": true
    }
   },
   "outputs": [
    {
     "name": "stdout",
     "output_type": "stream",
     "text": [
      "epoch: 0001, loss: 5353.9821 - val_loss: 967.5308; rmse: 27.9728 - rmse_val: 28.9372;  r2: 0.0247 - r2_val: 0.0157                                                                                                    \n",
      "epoch: 0002, loss: 394.3998 - val_loss: 283.4983; rmse: 11.2025 - rmse_val: 13.1123;  r2: 0.0012 - r2_val: 0.0012                                                                                                    \n",
      "epoch: 0003, loss: 201.1903 - val_loss: 221.3855; rmse: 9.4715 - rmse_val: 11.2155;  r2: 0.0051 - r2_val: 0.0063                                                                                                    \n",
      "epoch: 0004, loss: 155.8337 - val_loss: 192.0211; rmse: 8.8109 - rmse_val: 10.2937;  r2: 0.0165 - r2_val: 0.0176                                                                                                    \n",
      "epoch: 0005, loss: 132.0952 - val_loss: 185.1760; rmse: 8.9169 - rmse_val: 10.2041;  r2: 0.0443 - r2_val: 0.0387                                                                                                    \n",
      "epoch: 0006, loss: 109.0576 - val_loss: 156.5059; rmse: 7.1224 - rmse_val: 8.9636;  r2: 0.0214 - r2_val: 0.0172                                                                                                    \n",
      "epoch: 0007, loss: 92.9400 - val_loss: 148.1706; rmse: 6.5097 - rmse_val: 8.6474;  r2: 0.0335 - r2_val: 0.0254                                                                                                    \n",
      "epoch: 0008, loss: 82.3461 - val_loss: 147.6430; rmse: 6.2819 - rmse_val: 8.7547;  r2: 0.0173 - r2_val: 0.0094                                                                                                    \n",
      "epoch: 0009, loss: 74.3224 - val_loss: 147.8383; rmse: 6.2161 - rmse_val: 8.8801;  r2: 0.0608 - r2_val: 0.0291                                                                                                    \n",
      "epoch: 0010, loss: 64.7553 - val_loss: 137.0009; rmse: 5.4241 - rmse_val: 8.3403;  r2: 0.0385 - r2_val: 0.0142                                                                                                    \n",
      "epoch: 0011, loss: 58.5781 - val_loss: 132.2114; rmse: 5.0819 - rmse_val: 8.1432;  r2: 0.0387 - r2_val: 0.0119                                                                                                    \n",
      "epoch: 0012, loss: 51.6945 - val_loss: 130.3156; rmse: 4.9759 - rmse_val: 8.0178;  r2: 0.0781 - r2_val: 0.0238                                                                                                    \n",
      "epoch: 0013, loss: 46.3097 - val_loss: 129.0726; rmse: 4.8134 - rmse_val: 7.9929;  r2: 0.0569 - r2_val: 0.0130                                                                                                    \n",
      "epoch: 0014, loss: 41.5920 - val_loss: 129.1333; rmse: 4.3699 - rmse_val: 8.0576;  r2: 0.0576 - r2_val: 0.0118                                                                                                    \n",
      "epoch: 0015, loss: 39.1878 - val_loss: 141.5026; rmse: 5.2835 - rmse_val: 8.9063;  r2: 0.0664 - r2_val: 0.0137                                                                                                    \n",
      "epoch: 0016, loss: 40.2329 - val_loss: 135.3353; rmse: 4.7384 - rmse_val: 8.5596;  r2: 0.0899 - r2_val: 0.0168                                                                                                    \n",
      "epoch: 0017, loss: 34.2959 - val_loss: 121.0356; rmse: 3.9020 - rmse_val: 7.7016;  r2: 0.1356 - r2_val: 0.0296                                                                                                    \n",
      "epoch: 0018, loss: 31.2427 - val_loss: 122.6673; rmse: 3.7506 - rmse_val: 7.9054;  r2: 0.0967 - r2_val: 0.0158                                                                                                    \n",
      "epoch: 0019, loss: 28.4686 - val_loss: 130.2575; rmse: 4.3603 - rmse_val: 8.3949;  r2: 0.0877 - r2_val: 0.0130                                                                                                    \n",
      "epoch: 0020, loss: 26.9319 - val_loss: 118.5262; rmse: 3.4393 - rmse_val: 7.6652;  r2: 0.1836 - r2_val: 0.0334                                                                                                    \n",
      "epoch: 0021, loss: 24.0494 - val_loss: 117.3391; rmse: 3.2739 - rmse_val: 7.6524;  r2: 0.1507 - r2_val: 0.0191                                                                                                    \n",
      "epoch: 0022, loss: 21.6030 - val_loss: 115.7852; rmse: 3.1706 - rmse_val: 7.6196;  r2: 0.1849 - r2_val: 0.0220                                                                                                    \n",
      "epoch: 0023, loss: 20.5122 - val_loss: 113.0867; rmse: 3.0813 - rmse_val: 7.4731;  r2: 0.2277 - r2_val: 0.0270                                                                                                    \n",
      "epoch: 0024, loss: 19.1893 - val_loss: 118.6723; rmse: 3.3807 - rmse_val: 7.8772;  r2: 0.1617 - r2_val: 0.0141                                                                                                    \n",
      "epoch: 0025, loss: 18.3712 - val_loss: 111.7654; rmse: 2.9315 - rmse_val: 7.4550;  r2: 0.2150 - r2_val: 0.0173                                                                                                    \n",
      "epoch: 0026, loss: 16.9806 - val_loss: 112.2634; rmse: 2.8480 - rmse_val: 7.4653;  r2: 0.2082 - r2_val: 0.0149                                                                                                    \n",
      "epoch: 0027, loss: 16.3855 - val_loss: 112.1240; rmse: 2.8906 - rmse_val: 7.4633;  r2: 0.2722 - r2_val: 0.0237                                                                                                    \n",
      "epoch: 0028, loss: 15.3649 - val_loss: 112.4346; rmse: 3.1128 - rmse_val: 7.5083;  r2: 0.2815 - r2_val: 0.0226                                                                                                    \n",
      "epoch: 0029, loss: 16.8110 - val_loss: 112.2819; rmse: 3.1082 - rmse_val: 7.5201;  r2: 0.2803 - r2_val: 0.0184                                                                                                    \n",
      "epoch: 0030, loss: 13.2030 - val_loss: 111.6364; rmse: 2.4871 - rmse_val: 7.5506;  r2: 0.2436 - r2_val: 0.0120                                                                                                    \n",
      "epoch: 0031, loss: 11.9202 - val_loss: 112.3250; rmse: 2.6156 - rmse_val: 7.6234;  r2: 0.2619 - r2_val: 0.0131                                                                                                    \n",
      "epoch: 0032, loss: 12.1183 - val_loss: 122.5526; rmse: 3.7291 - rmse_val: 8.2962;  r2: 0.2239 - r2_val: 0.0064                                                                                                    \n",
      "epoch: 0033, loss: 12.7427 - val_loss: 109.4951; rmse: 2.3533 - rmse_val: 7.4679;  r2: 0.3246 - r2_val: 0.0185                                                                                                    \n",
      "epoch: 0034, loss: 10.5855 - val_loss: 108.3988; rmse: 2.2611 - rmse_val: 7.4303;  r2: 0.3270 - r2_val: 0.0163                                                                                                    \n",
      "epoch: 0035, loss: 9.5663 - val_loss: 109.2294; rmse: 2.1993 - rmse_val: 7.4524;  r2: 0.3281 - r2_val: 0.0146                                                                                                    \n",
      "epoch: 0036, loss: 9.0916 - val_loss: 105.8702; rmse: 2.2416 - rmse_val: 7.2492;  r2: 0.4171 - r2_val: 0.0244                                                                                                    \n",
      "epoch: 0037, loss: 8.5804 - val_loss: 106.3524; rmse: 2.1055 - rmse_val: 7.2813;  r2: 0.4142 - r2_val: 0.0211                                                                                                    \n",
      "epoch: 0038, loss: 8.2815 - val_loss: 105.3372; rmse: 2.0448 - rmse_val: 7.2333;  r2: 0.4035 - r2_val: 0.0182                                                                                                    \n",
      "epoch: 0039, loss: 7.8169 - val_loss: 105.1943; rmse: 1.9040 - rmse_val: 7.2885;  r2: 0.3999 - r2_val: 0.0149                                                                                                    \n",
      "epoch: 0040, loss: 7.5352 - val_loss: 108.1967; rmse: 2.2439 - rmse_val: 7.4811;  r2: 0.4098 - r2_val: 0.0155                                                                                                    \n",
      "epoch: 0041, loss: 7.0700 - val_loss: 108.2274; rmse: 2.2515 - rmse_val: 7.4979;  r2: 0.4084 - r2_val: 0.0127                                                                                                    \n",
      "epoch: 0042, loss: 7.9773 - val_loss: 104.1230; rmse: 1.8531 - rmse_val: 7.2621;  r2: 0.4549 - r2_val: 0.0170                                                                                                    \n",
      "epoch: 0043, loss: 7.0189 - val_loss: 102.2845; rmse: 1.9374 - rmse_val: 7.1417;  r2: 0.5127 - r2_val: 0.0232                                                                                                    \n",
      "epoch: 0044, loss: 6.2609 - val_loss: 108.1320; rmse: 2.3694 - rmse_val: 7.5446;  r2: 0.4210 - r2_val: 0.0098                                                                                                    \n",
      "epoch: 0045, loss: 6.5431 - val_loss: 102.8567; rmse: 1.8363 - rmse_val: 7.1829;  r2: 0.4506 - r2_val: 0.0117                                                                                                    \n",
      "epoch: 0046, loss: 6.4488 - val_loss: 101.7173; rmse: 2.0998 - rmse_val: 7.1144;  r2: 0.5220 - r2_val: 0.0211                                                                                                    \n",
      "epoch: 0047, loss: 6.0317 - val_loss: 102.0888; rmse: 1.7434 - rmse_val: 7.1999;  r2: 0.4972 - r2_val: 0.0141                                                                                                    \n",
      "epoch: 0048, loss: 5.2267 - val_loss: 102.9458; rmse: 1.5246 - rmse_val: 7.1755;  r2: 0.5337 - r2_val: 0.0136                                                                                                    \n",
      "epoch: 0049, loss: 5.4428 - val_loss: 100.0366; rmse: 1.6652 - rmse_val: 7.0476;  r2: 0.5679 - r2_val: 0.0185                                                                                                    \n",
      "epoch: 0050, loss: 4.8272 - val_loss: 100.0443; rmse: 1.4504 - rmse_val: 7.0767;  r2: 0.5442 - r2_val: 0.0140                                                                                                    \n",
      "epoch: 0051, loss: 4.8518 - val_loss: 99.8733; rmse: 1.5541 - rmse_val: 7.1220;  r2: 0.5842 - r2_val: 0.0174                                                                                                    \n",
      "epoch: 0052, loss: 4.5370 - val_loss: 99.2843; rmse: 1.9503 - rmse_val: 7.0446;  r2: 0.5843 - r2_val: 0.0174                                                                                                    \n",
      "epoch: 0053, loss: 4.1116 - val_loss: 98.7493; rmse: 1.3484 - rmse_val: 7.0342;  r2: 0.5981 - r2_val: 0.0147                                                                                                    \n",
      "epoch: 0054, loss: 4.2017 - val_loss: 99.1135; rmse: 1.4173 - rmse_val: 7.0784;  r2: 0.6113 - r2_val: 0.0145                                                                                                    \n",
      "epoch: 0055, loss: 3.6107 - val_loss: 98.1490; rmse: 1.7551 - rmse_val: 6.9867;  r2: 0.6450 - r2_val: 0.0175                                                                                                    \n",
      "epoch: 0056, loss: 4.0366 - val_loss: 98.1353; rmse: 1.2779 - rmse_val: 7.0105;  r2: 0.6439 - r2_val: 0.0162                                                                                                    \n",
      "epoch: 0057, loss: 3.6162 - val_loss: 99.5980; rmse: 1.5684 - rmse_val: 7.1229;  r2: 0.6549 - r2_val: 0.0180                                                                                                    \n"
     ]
    },
    {
     "ename": "KeyboardInterrupt",
     "evalue": "",
     "output_type": "error",
     "traceback": [
      "\u001b[0;31m---------------------------------------------------------------------------\u001b[0m",
      "\u001b[0;31mKeyboardInterrupt\u001b[0m                         Traceback (most recent call last)",
      "\u001b[0;32m<ipython-input-20-27868f7d3652>\u001b[0m in \u001b[0;36m<module>\u001b[0;34m\u001b[0m\n\u001b[1;32m      2\u001b[0m       \u001b[0mepochs\u001b[0m\u001b[0;34m=\u001b[0m\u001b[0;36m500\u001b[0m\u001b[0;34m,\u001b[0m \u001b[0mverbose\u001b[0m\u001b[0;34m=\u001b[0m \u001b[0;36m0\u001b[0m\u001b[0;34m,\u001b[0m \u001b[0mshuffle\u001b[0m \u001b[0;34m=\u001b[0m \u001b[0;32mTrue\u001b[0m\u001b[0;34m,\u001b[0m\u001b[0;34m\u001b[0m\u001b[0;34m\u001b[0m\u001b[0m\n\u001b[1;32m      3\u001b[0m       \u001b[0mvalidation_data\u001b[0m \u001b[0;34m=\u001b[0m \u001b[0;34m(\u001b[0m\u001b[0mvalidX\u001b[0m\u001b[0;34m,\u001b[0m \u001b[0mvalidY\u001b[0m\u001b[0;34m)\u001b[0m\u001b[0;34m,\u001b[0m\u001b[0;34m\u001b[0m\u001b[0;34m\u001b[0m\u001b[0m\n\u001b[0;32m----> 4\u001b[0;31m       callbacks=[performance]) \n\u001b[0m",
      "\u001b[0;32m~/anaconda3/envs/my-rdkit-env/lib/python3.6/site-packages/tensorflow/python/keras/engine/training.py\u001b[0m in \u001b[0;36mfit\u001b[0;34m(self, x, y, batch_size, epochs, verbose, callbacks, validation_split, validation_data, shuffle, class_weight, sample_weight, initial_epoch, steps_per_epoch, validation_steps, validation_freq, max_queue_size, workers, use_multiprocessing, **kwargs)\u001b[0m\n\u001b[1;32m    778\u001b[0m           \u001b[0mvalidation_steps\u001b[0m\u001b[0;34m=\u001b[0m\u001b[0mvalidation_steps\u001b[0m\u001b[0;34m,\u001b[0m\u001b[0;34m\u001b[0m\u001b[0;34m\u001b[0m\u001b[0m\n\u001b[1;32m    779\u001b[0m           \u001b[0mvalidation_freq\u001b[0m\u001b[0;34m=\u001b[0m\u001b[0mvalidation_freq\u001b[0m\u001b[0;34m,\u001b[0m\u001b[0;34m\u001b[0m\u001b[0;34m\u001b[0m\u001b[0m\n\u001b[0;32m--> 780\u001b[0;31m           steps_name='steps_per_epoch')\n\u001b[0m\u001b[1;32m    781\u001b[0m \u001b[0;34m\u001b[0m\u001b[0m\n\u001b[1;32m    782\u001b[0m   def evaluate(self,\n",
      "\u001b[0;32m~/anaconda3/envs/my-rdkit-env/lib/python3.6/site-packages/tensorflow/python/keras/engine/training_arrays.py\u001b[0m in \u001b[0;36mmodel_iteration\u001b[0;34m(model, inputs, targets, sample_weights, batch_size, epochs, verbose, callbacks, val_inputs, val_targets, val_sample_weights, shuffle, initial_epoch, steps_per_epoch, validation_steps, validation_freq, mode, validation_in_fit, prepared_feed_values_from_dataset, steps_name, **kwargs)\u001b[0m\n\u001b[1;32m    417\u001b[0m     \u001b[0;32mif\u001b[0m \u001b[0mmode\u001b[0m \u001b[0;34m==\u001b[0m \u001b[0mModeKeys\u001b[0m\u001b[0;34m.\u001b[0m\u001b[0mTRAIN\u001b[0m\u001b[0;34m:\u001b[0m\u001b[0;34m\u001b[0m\u001b[0;34m\u001b[0m\u001b[0m\n\u001b[1;32m    418\u001b[0m       \u001b[0;31m# Epochs only apply to `fit`.\u001b[0m\u001b[0;34m\u001b[0m\u001b[0;34m\u001b[0m\u001b[0;34m\u001b[0m\u001b[0m\n\u001b[0;32m--> 419\u001b[0;31m       \u001b[0mcallbacks\u001b[0m\u001b[0;34m.\u001b[0m\u001b[0mon_epoch_end\u001b[0m\u001b[0;34m(\u001b[0m\u001b[0mepoch\u001b[0m\u001b[0;34m,\u001b[0m \u001b[0mepoch_logs\u001b[0m\u001b[0;34m)\u001b[0m\u001b[0;34m\u001b[0m\u001b[0;34m\u001b[0m\u001b[0m\n\u001b[0m\u001b[1;32m    420\u001b[0m     \u001b[0mprogbar\u001b[0m\u001b[0;34m.\u001b[0m\u001b[0mon_epoch_end\u001b[0m\u001b[0;34m(\u001b[0m\u001b[0mepoch\u001b[0m\u001b[0;34m,\u001b[0m \u001b[0mepoch_logs\u001b[0m\u001b[0;34m)\u001b[0m\u001b[0;34m\u001b[0m\u001b[0;34m\u001b[0m\u001b[0m\n\u001b[1;32m    421\u001b[0m \u001b[0;34m\u001b[0m\u001b[0m\n",
      "\u001b[0;32m~/anaconda3/envs/my-rdkit-env/lib/python3.6/site-packages/tensorflow/python/keras/callbacks.py\u001b[0m in \u001b[0;36mon_epoch_end\u001b[0;34m(self, epoch, logs)\u001b[0m\n\u001b[1;32m    309\u001b[0m     \u001b[0mlogs\u001b[0m \u001b[0;34m=\u001b[0m \u001b[0mlogs\u001b[0m \u001b[0;32mor\u001b[0m \u001b[0;34m{\u001b[0m\u001b[0;34m}\u001b[0m\u001b[0;34m\u001b[0m\u001b[0;34m\u001b[0m\u001b[0m\n\u001b[1;32m    310\u001b[0m     \u001b[0;32mfor\u001b[0m \u001b[0mcallback\u001b[0m \u001b[0;32min\u001b[0m \u001b[0mself\u001b[0m\u001b[0;34m.\u001b[0m\u001b[0mcallbacks\u001b[0m\u001b[0;34m:\u001b[0m\u001b[0;34m\u001b[0m\u001b[0;34m\u001b[0m\u001b[0m\n\u001b[0;32m--> 311\u001b[0;31m       \u001b[0mcallback\u001b[0m\u001b[0;34m.\u001b[0m\u001b[0mon_epoch_end\u001b[0m\u001b[0;34m(\u001b[0m\u001b[0mepoch\u001b[0m\u001b[0;34m,\u001b[0m \u001b[0mlogs\u001b[0m\u001b[0;34m)\u001b[0m\u001b[0;34m\u001b[0m\u001b[0;34m\u001b[0m\u001b[0m\n\u001b[0m\u001b[1;32m    312\u001b[0m \u001b[0;34m\u001b[0m\u001b[0m\n\u001b[1;32m    313\u001b[0m   \u001b[0;32mdef\u001b[0m \u001b[0mon_train_batch_begin\u001b[0m\u001b[0;34m(\u001b[0m\u001b[0mself\u001b[0m\u001b[0;34m,\u001b[0m \u001b[0mbatch\u001b[0m\u001b[0;34m,\u001b[0m \u001b[0mlogs\u001b[0m\u001b[0;34m=\u001b[0m\u001b[0;32mNone\u001b[0m\u001b[0;34m)\u001b[0m\u001b[0;34m:\u001b[0m\u001b[0;34m\u001b[0m\u001b[0;34m\u001b[0m\u001b[0m\n",
      "\u001b[0;32m~/Research/bidd-atommap/paper/cbks.py\u001b[0m in \u001b[0;36mon_epoch_end\u001b[0;34m(self, epoch, logs)\u001b[0m\n\u001b[1;32m    108\u001b[0m     \u001b[0;32mdef\u001b[0m \u001b[0mon_epoch_end\u001b[0m\u001b[0;34m(\u001b[0m\u001b[0mself\u001b[0m\u001b[0;34m,\u001b[0m \u001b[0mepoch\u001b[0m\u001b[0;34m,\u001b[0m \u001b[0mlogs\u001b[0m\u001b[0;34m=\u001b[0m\u001b[0;34m{\u001b[0m\u001b[0;34m}\u001b[0m\u001b[0;34m)\u001b[0m\u001b[0;34m:\u001b[0m\u001b[0;34m\u001b[0m\u001b[0;34m\u001b[0m\u001b[0m\n\u001b[1;32m    109\u001b[0m \u001b[0;34m\u001b[0m\u001b[0m\n\u001b[0;32m--> 110\u001b[0;31m         \u001b[0my_pred\u001b[0m \u001b[0;34m=\u001b[0m \u001b[0mself\u001b[0m\u001b[0;34m.\u001b[0m\u001b[0mmodel\u001b[0m\u001b[0;34m.\u001b[0m\u001b[0mpredict\u001b[0m\u001b[0;34m(\u001b[0m\u001b[0mself\u001b[0m\u001b[0;34m.\u001b[0m\u001b[0mx\u001b[0m\u001b[0;34m)\u001b[0m\u001b[0;34m\u001b[0m\u001b[0;34m\u001b[0m\u001b[0m\n\u001b[0m\u001b[1;32m    111\u001b[0m         \u001b[0mrmse_list\u001b[0m \u001b[0;34m=\u001b[0m \u001b[0mself\u001b[0m\u001b[0;34m.\u001b[0m\u001b[0mrmse\u001b[0m\u001b[0;34m(\u001b[0m\u001b[0mself\u001b[0m\u001b[0;34m.\u001b[0m\u001b[0my\u001b[0m\u001b[0;34m,\u001b[0m \u001b[0my_pred\u001b[0m\u001b[0;34m)\u001b[0m\u001b[0;34m\u001b[0m\u001b[0;34m\u001b[0m\u001b[0m\n\u001b[1;32m    112\u001b[0m         \u001b[0mrmse_mean\u001b[0m \u001b[0;34m=\u001b[0m \u001b[0mnp\u001b[0m\u001b[0;34m.\u001b[0m\u001b[0mnanmean\u001b[0m\u001b[0;34m(\u001b[0m\u001b[0mrmse_list\u001b[0m\u001b[0;34m)\u001b[0m\u001b[0;34m\u001b[0m\u001b[0;34m\u001b[0m\u001b[0m\n",
      "\u001b[0;32m~/anaconda3/envs/my-rdkit-env/lib/python3.6/site-packages/tensorflow/python/keras/engine/training.py\u001b[0m in \u001b[0;36mpredict\u001b[0;34m(self, x, batch_size, verbose, steps, callbacks, max_queue_size, workers, use_multiprocessing)\u001b[0m\n\u001b[1;32m   1076\u001b[0m           \u001b[0mverbose\u001b[0m\u001b[0;34m=\u001b[0m\u001b[0mverbose\u001b[0m\u001b[0;34m,\u001b[0m\u001b[0;34m\u001b[0m\u001b[0;34m\u001b[0m\u001b[0m\n\u001b[1;32m   1077\u001b[0m           \u001b[0msteps\u001b[0m\u001b[0;34m=\u001b[0m\u001b[0msteps\u001b[0m\u001b[0;34m,\u001b[0m\u001b[0;34m\u001b[0m\u001b[0;34m\u001b[0m\u001b[0m\n\u001b[0;32m-> 1078\u001b[0;31m           callbacks=callbacks)\n\u001b[0m\u001b[1;32m   1079\u001b[0m \u001b[0;34m\u001b[0m\u001b[0m\n\u001b[1;32m   1080\u001b[0m   \u001b[0;32mdef\u001b[0m \u001b[0mreset_metrics\u001b[0m\u001b[0;34m(\u001b[0m\u001b[0mself\u001b[0m\u001b[0;34m)\u001b[0m\u001b[0;34m:\u001b[0m\u001b[0;34m\u001b[0m\u001b[0;34m\u001b[0m\u001b[0m\n",
      "\u001b[0;32m~/anaconda3/envs/my-rdkit-env/lib/python3.6/site-packages/tensorflow/python/keras/engine/training_arrays.py\u001b[0m in \u001b[0;36mmodel_iteration\u001b[0;34m(model, inputs, targets, sample_weights, batch_size, epochs, verbose, callbacks, val_inputs, val_targets, val_sample_weights, shuffle, initial_epoch, steps_per_epoch, validation_steps, validation_freq, mode, validation_in_fit, prepared_feed_values_from_dataset, steps_name, **kwargs)\u001b[0m\n\u001b[1;32m    361\u001b[0m \u001b[0;34m\u001b[0m\u001b[0m\n\u001b[1;32m    362\u001b[0m         \u001b[0;31m# Get outputs.\u001b[0m\u001b[0;34m\u001b[0m\u001b[0;34m\u001b[0m\u001b[0;34m\u001b[0m\u001b[0m\n\u001b[0;32m--> 363\u001b[0;31m         \u001b[0mbatch_outs\u001b[0m \u001b[0;34m=\u001b[0m \u001b[0mf\u001b[0m\u001b[0;34m(\u001b[0m\u001b[0mins_batch\u001b[0m\u001b[0;34m)\u001b[0m\u001b[0;34m\u001b[0m\u001b[0;34m\u001b[0m\u001b[0m\n\u001b[0m\u001b[1;32m    364\u001b[0m         \u001b[0;32mif\u001b[0m \u001b[0;32mnot\u001b[0m \u001b[0misinstance\u001b[0m\u001b[0;34m(\u001b[0m\u001b[0mbatch_outs\u001b[0m\u001b[0;34m,\u001b[0m \u001b[0mlist\u001b[0m\u001b[0;34m)\u001b[0m\u001b[0;34m:\u001b[0m\u001b[0;34m\u001b[0m\u001b[0;34m\u001b[0m\u001b[0m\n\u001b[1;32m    365\u001b[0m           \u001b[0mbatch_outs\u001b[0m \u001b[0;34m=\u001b[0m \u001b[0;34m[\u001b[0m\u001b[0mbatch_outs\u001b[0m\u001b[0;34m]\u001b[0m\u001b[0;34m\u001b[0m\u001b[0;34m\u001b[0m\u001b[0m\n",
      "\u001b[0;32m~/anaconda3/envs/my-rdkit-env/lib/python3.6/site-packages/tensorflow/python/keras/backend.py\u001b[0m in \u001b[0;36m__call__\u001b[0;34m(self, inputs)\u001b[0m\n\u001b[1;32m   3290\u001b[0m \u001b[0;34m\u001b[0m\u001b[0m\n\u001b[1;32m   3291\u001b[0m     fetched = self._callable_fn(*array_vals,\n\u001b[0;32m-> 3292\u001b[0;31m                                 run_metadata=self.run_metadata)\n\u001b[0m\u001b[1;32m   3293\u001b[0m     \u001b[0mself\u001b[0m\u001b[0;34m.\u001b[0m\u001b[0m_call_fetch_callbacks\u001b[0m\u001b[0;34m(\u001b[0m\u001b[0mfetched\u001b[0m\u001b[0;34m[\u001b[0m\u001b[0;34m-\u001b[0m\u001b[0mlen\u001b[0m\u001b[0;34m(\u001b[0m\u001b[0mself\u001b[0m\u001b[0;34m.\u001b[0m\u001b[0m_fetches\u001b[0m\u001b[0;34m)\u001b[0m\u001b[0;34m:\u001b[0m\u001b[0;34m]\u001b[0m\u001b[0;34m)\u001b[0m\u001b[0;34m\u001b[0m\u001b[0;34m\u001b[0m\u001b[0m\n\u001b[1;32m   3294\u001b[0m     output_structure = nest.pack_sequence_as(\n",
      "\u001b[0;32m~/anaconda3/envs/my-rdkit-env/lib/python3.6/site-packages/tensorflow/python/client/session.py\u001b[0m in \u001b[0;36m__call__\u001b[0;34m(self, *args, **kwargs)\u001b[0m\n\u001b[1;32m   1456\u001b[0m         ret = tf_session.TF_SessionRunCallable(self._session._session,\n\u001b[1;32m   1457\u001b[0m                                                \u001b[0mself\u001b[0m\u001b[0;34m.\u001b[0m\u001b[0m_handle\u001b[0m\u001b[0;34m,\u001b[0m \u001b[0margs\u001b[0m\u001b[0;34m,\u001b[0m\u001b[0;34m\u001b[0m\u001b[0;34m\u001b[0m\u001b[0m\n\u001b[0;32m-> 1458\u001b[0;31m                                                run_metadata_ptr)\n\u001b[0m\u001b[1;32m   1459\u001b[0m         \u001b[0;32mif\u001b[0m \u001b[0mrun_metadata\u001b[0m\u001b[0;34m:\u001b[0m\u001b[0;34m\u001b[0m\u001b[0;34m\u001b[0m\u001b[0m\n\u001b[1;32m   1460\u001b[0m           \u001b[0mproto_data\u001b[0m \u001b[0;34m=\u001b[0m \u001b[0mtf_session\u001b[0m\u001b[0;34m.\u001b[0m\u001b[0mTF_GetBuffer\u001b[0m\u001b[0;34m(\u001b[0m\u001b[0mrun_metadata_ptr\u001b[0m\u001b[0;34m)\u001b[0m\u001b[0;34m\u001b[0m\u001b[0;34m\u001b[0m\u001b[0m\n",
      "\u001b[0;31mKeyboardInterrupt\u001b[0m: "
     ]
    }
   ],
   "source": [
    "model.fit(trainX, trainY, batch_size=batch_size, \n",
    "      epochs=500, verbose= 0, shuffle = True, \n",
    "      validation_data = (validX, validY), \n",
    "      callbacks=[performance]) "
   ]
  },
  {
   "cell_type": "code",
   "execution_count": 21,
   "metadata": {},
   "outputs": [
    {
     "data": {
      "text/plain": [
       "<matplotlib.axes._subplots.AxesSubplot at 0x7fc9901788d0>"
      ]
     },
     "execution_count": 21,
     "metadata": {},
     "output_type": "execute_result"
    },
    {
     "data": {
      "image/png": "[encoded data removed]",
      "text/plain": [
       "<Figure size 432x288 with 1 Axes>"
      ]
     },
     "metadata": {
      "needs_background": "light"
     },
     "output_type": "display_data"
    }
   ],
   "source": [
    "pd.DataFrame(performance.history)['val_rmse'].plot()"
   ]
  },
  {
   "cell_type": "code",
   "execution_count": null,
   "metadata": {},
   "outputs": [],
   "source": []
  },
  {
   "cell_type": "code",
   "execution_count": null,
   "metadata": {},
   "outputs": [],
   "source": []
  },
  {
   "cell_type": "code",
   "execution_count": null,
   "metadata": {},
   "outputs": [],
   "source": []
  },
  {
   "cell_type": "code",
   "execution_count": null,
   "metadata": {},
   "outputs": [],
   "source": []
  },
  {
   "cell_type": "code",
   "execution_count": null,
   "metadata": {},
   "outputs": [],
   "source": [
    "performance.evaluate(validX, validY)"
   ]
  },
  {
   "cell_type": "code",
   "execution_count": null,
   "metadata": {},
   "outputs": [],
   "source": [
    "performance.evaluate(testX, testY)"
   ]
  },
  {
   "cell_type": "code",
   "execution_count": null,
   "metadata": {},
   "outputs": [],
   "source": []
  },
  {
   "cell_type": "code",
   "execution_count": null,
   "metadata": {},
   "outputs": [],
   "source": []
  },
  {
   "cell_type": "code",
   "execution_count": null,
   "metadata": {},
   "outputs": [],
   "source": []
  },
  {
   "cell_type": "code",
   "execution_count": null,
   "metadata": {},
   "outputs": [],
   "source": []
  },
  {
   "cell_type": "code",
   "execution_count": null,
   "metadata": {},
   "outputs": [],
   "source": []
  }
 ],
 "metadata": {
  "kernelspec": {
   "display_name": "Python 3",
   "language": "python",
   "name": "python3"
  },
  "language_info": {
   "codemirror_mode": {
    "name": "ipython",
    "version": 3
   },
   "file_extension": ".py",
   "mimetype": "text/x-python",
   "name": "python",
   "nbconvert_exporter": "python",
   "pygments_lexer": "ipython3",
   "version": "3.6.5"
  }
 },
 "nbformat": 4,
 "nbformat_minor": 4
}
