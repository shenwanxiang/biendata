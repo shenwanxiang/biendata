{
 "cells": [
  {
   "cell_type": "code",
   "execution_count": 1,
   "metadata": {},
   "outputs": [],
   "source": [
    "from net import MolMapNet\n",
    "from cbks import Reg_EarlyStoppingAndPerformance\n",
    "import pandas as pd\n",
    "import numpy as np\n",
    "import tensorflow as tf\n",
    "import os\n",
    "import matplotlib.pyplot as plt\n",
    "from molmaps import load_map\n",
    "from joblib import dump, load\n",
    "import os\n",
    "\n",
    "np.random.seed(123)\n",
    "tf.compat.v1.set_random_seed(123)\n",
    "\n",
    "os.environ[\"CUDA_VISIBLE_DEVICES\"]=\"4\""
   ]
  },
  {
   "cell_type": "code",
   "execution_count": 2,
   "metadata": {},
   "outputs": [],
   "source": [
    "def MinMaxScaleClip(df):\n",
    "    from molmaps.config import load_config\n",
    "    scaleinfo = load_config(metric='scale')\n",
    "    res = (df - scaleinfo['min']) / ((scaleinfo['max'] - scaleinfo['min']) + 1e-8)\n",
    "    res = res.clip(0,1)\n",
    "    return res"
   ]
  },
  {
   "cell_type": "code",
   "execution_count": 3,
   "metadata": {},
   "outputs": [],
   "source": [
    "X_name = './tmpignore/X.data'\n",
    "Y_name = './tmpignore/Y.data'"
   ]
  },
  {
   "cell_type": "code",
   "execution_count": 4,
   "metadata": {},
   "outputs": [],
   "source": [
    "if not os.path.exists(X_name):\n",
    "    mp = load_map('./cosine_tsne.mp')\n",
    "    dfx = pd.read_csv('./molecule_open_data/candidate_train.csv')\n",
    "    dfx = dfx.set_index('id')\n",
    "    dfy = pd.read_csv('./molecule_open_data/train_answer.csv')\n",
    "    dfy = dfy.set_index('id')\n",
    "    df = dfx.join(dfy)\n",
    "    df_scale = MinMaxScaleClip(dfx)   \n",
    "    X = mp.batch_transform(df_scale.values, scale = False, n_jobs = 20)\n",
    "    dump(X, './tmpignore/X.data')\n",
    "    dump(Y, './tmpignore/Y.data')    \n",
    "else:\n",
    "    X = load(X_name)\n",
    "    Y = load(Y_name)"
   ]
  },
  {
   "cell_type": "code",
   "execution_count": 5,
   "metadata": {},
   "outputs": [],
   "source": [
    "train_idx, valid_idx = load('./train_valid_idx.ind')"
   ]
  },
  {
   "cell_type": "code",
   "execution_count": 6,
   "metadata": {},
   "outputs": [],
   "source": [
    "shape=(X.shape[1], X.shape[2])\n",
    "n_conformers = 1\n",
    "epochs = 500\n",
    "patience = 50\n",
    "lr = 1e-4\n",
    "batch_size = 128\n",
    "loss = 'mse'\n",
    "criteria = 'val_loss'\n",
    "\n",
    "dense_layers = [128]\n",
    "dense_avf = 'relu'\n",
    "last_avf = 'linear'"
   ]
  },
  {
   "cell_type": "code",
   "execution_count": 7,
   "metadata": {},
   "outputs": [],
   "source": [
    "trainX = X[train_idx]\n",
    "trainY = Y[train_idx]\n",
    "\n",
    "validX = X[valid_idx]\n",
    "validY = Y[valid_idx]"
   ]
  },
  {
   "cell_type": "code",
   "execution_count": 8,
   "metadata": {},
   "outputs": [
    {
     "data": {
      "text/plain": [
       "((79267, 56, 56, 1), (79267, 6), (69883, 56, 56, 1))"
      ]
     },
     "execution_count": 8,
     "metadata": {},
     "output_type": "execute_result"
    }
   ],
   "source": [
    "X.shape, Y.shape, trainX.shape"
   ]
  },
  {
   "cell_type": "code",
   "execution_count": 9,
   "metadata": {},
   "outputs": [],
   "source": [
    "model = MolMapNet(input_shape = trainX.shape[1:], \n",
    "                   n_outputs=Y.shape[-1],\n",
    "                   conv1_kernel_size = 13,\n",
    "                   dense_layers = dense_layers,\n",
    "                   dense_avf = dense_avf,\n",
    "                   last_avf = last_avf)"
   ]
  },
  {
   "cell_type": "code",
   "execution_count": 10,
   "metadata": {},
   "outputs": [
    {
     "data": {
      "text/plain": [
       "302726"
      ]
     },
     "execution_count": 10,
     "metadata": {},
     "output_type": "execute_result"
    }
   ],
   "source": [
    "model.count_params()"
   ]
  },
  {
   "cell_type": "code",
   "execution_count": 11,
   "metadata": {},
   "outputs": [],
   "source": [
    "performance = Reg_EarlyStoppingAndPerformance((trainX, trainY), \n",
    "                                            (validX, validY),\n",
    "                                            n_conformers = n_conformers,\n",
    "                                            patience=patience, \n",
    "                                            criteria = criteria)\n",
    "\n",
    "opt = tf.keras.optimizers.Adam(lr=lr, beta_1=0.9, beta_2=0.999, epsilon=1e-08, decay=0.0) #\n",
    "model.compile(optimizer = opt, loss = loss)"
   ]
  },
  {
   "cell_type": "code",
   "execution_count": null,
   "metadata": {},
   "outputs": [],
   "source": [
    "model.fit(trainX, trainY, batch_size=batch_size, \n",
    "          epochs=500, verbose= 0, shuffle = True, \n",
    "          validation_data = (validX, validY), \n",
    "          callbacks=[performance]) "
   ]
  },
  {
   "cell_type": "code",
   "execution_count": null,
   "metadata": {},
   "outputs": [],
   "source": []
  }
 ],
 "metadata": {
  "kernelspec": {
   "display_name": "Python 3",
   "language": "python",
   "name": "python3"
  },
  "language_info": {
   "codemirror_mode": {
    "name": "ipython",
    "version": 3
   },
   "file_extension": ".py",
   "mimetype": "text/x-python",
   "name": "python",
   "nbconvert_exporter": "python",
   "pygments_lexer": "ipython3",
   "version": "3.6.5"
  }
 },
 "nbformat": 4,
 "nbformat_minor": 4
}
